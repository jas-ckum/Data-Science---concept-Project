{
 "cells": [
  {
   "cell_type": "markdown",
   "metadata": {},
   "source": [
    "# Programming language (comprises a set of instructions used to produce various kinds of output from computer)"
   ]
  },
  {
   "cell_type": "code",
   "execution_count": null,
   "metadata": {},
   "outputs": [],
   "source": [
    "\n",
    "\n"
   ]
  },
  {
   "cell_type": "markdown",
   "metadata": {},
   "source": [
    "As we know computer works in binary mode , now to give instruction to them in binary mode is a huge task for any human so we develop Programming languages . Today we have more then 1000 Programming languages < https://en.wikipedia.org/wiki/List_of_programming_languages > .\n",
    "\n",
    "Now which one to choose ?\n",
    "\n",
    "\n",
    "we can categorised the Langauage in two main part .\n",
    "\n",
    "1) low level langauge :- coding is near to binary form and difficult to learn but always very fast to perform task.\n",
    "\n",
    "2) high level langauge:- coding is near to human language and easy to learn but always slow compare to low level language.\n",
    "\n",
    "\n",
    "So, For us High level will be perfect. Now for data science &  machine learning  two high level language are very popular .\n",
    "1) Python \n",
    "2) R.\n",
    "\n",
    "So we will go with python .(as syntax are easy , great documents , superb community to help , varity of libarary to work with)\n",
    "\n"
   ]
  },
  {
   "cell_type": "code",
   "execution_count": null,
   "metadata": {},
   "outputs": [],
   "source": []
  },
  {
   "cell_type": "markdown",
   "metadata": {},
   "source": [
    "Python has a huge collection of Libarary , as for data science we will start with three main Libarary .\n",
    "\n",
    "__PANDAS__ : For reading the database in python , cleaning the dataset and performing EDA (Exploratory data analysis).[https://pandas.pydata.org/pandas-docs/stable/]\n",
    "\n",
    "__Matplotlib / seaborn__ : For Visualization of the variables and understanding the relatonship.[https://matplotlib.org/contents.html]\n",
    "\n",
    "__Scikit-learn__ : For Final modeling or predicting with machine learning algorithm.     .[http://scikit-learn.org/stable/documentation.html]"
   ]
  },
  {
   "cell_type": "code",
   "execution_count": null,
   "metadata": {},
   "outputs": [],
   "source": []
  },
  {
   "cell_type": "markdown",
   "metadata": {},
   "source": [
    "**For python we are using Jupeter IDEs**"
   ]
  },
  {
   "cell_type": "code",
   "execution_count": null,
   "metadata": {},
   "outputs": [],
   "source": []
  },
  {
   "cell_type": "code",
   "execution_count": null,
   "metadata": {},
   "outputs": [],
   "source": []
  },
  {
   "cell_type": "markdown",
   "metadata": {},
   "source": [
    "__WorkFlow  for Pandas & MatPlot__\n",
    "\n",
    "- reading & writing of dataFrame\n",
    "\n",
    "- rename columns\n",
    "\n",
    "- removes columns\n",
    "\n",
    "- sorting dataframe or series \n",
    "\n",
    "- filter row \n",
    "\n",
    "- handeling missing value \n",
    "\n",
    "- handeling duplicate value \n",
    "\n",
    "- Unvariate analysis \n",
    "\n",
    "- Bivariate analysis \n",
    "\n",
    "- Group By\n",
    "\n",
    "- Pivot table \n",
    "\n",
    "- crosstab \n",
    "\n",
    "- concat & merge dataframe\n",
    "\n",
    "- Date & time \n",
    "\n",
    "- Ploting different graphs , etc"
   ]
  },
  {
   "cell_type": "code",
   "execution_count": null,
   "metadata": {},
   "outputs": [],
   "source": []
  },
  {
   "cell_type": "markdown",
   "metadata": {},
   "source": [
    "__WorkFlow for Scikit-learn__\n",
    "\n",
    "\n",
    "- **Data Preprocessing**\n",
    "\n",
    "\n",
    "- **Classification**\n",
    "\n",
    "    a) Logistic Regression\n",
    "    \n",
    "    b) K-Nearest Neighbors \n",
    "    \n",
    "    c) Decision Tree Classification\n",
    "    \n",
    "    d) Random Forest Classification\n",
    "    \n",
    "    e) XGBoost\n",
    "    \n",
    "    \n",
    "- **Regression**\n",
    "\n",
    "    a) Simple Linear Regression\n",
    "    \n",
    "    b) Multiple Linear Regression\n",
    "    \n",
    "    c) Polynomial Regression\n",
    "    \n",
    "    \n",
    "- **Dimensionality Reduction**\n",
    "    \n",
    "    a) Principal Component Analysis (PCA)\n",
    "\n",
    "\n"
   ]
  },
  {
   "cell_type": "code",
   "execution_count": 1,
   "metadata": {},
   "outputs": [],
   "source": []
  },
  {
   "cell_type": "code",
   "execution_count": null,
   "metadata": {},
   "outputs": [],
   "source": [
    "\n"
   ]
  },
  {
   "cell_type": "code",
   "execution_count": null,
   "metadata": {},
   "outputs": [],
   "source": []
  },
  {
   "cell_type": "code",
   "execution_count": null,
   "metadata": {},
   "outputs": [],
   "source": []
  },
  {
   "cell_type": "code",
   "execution_count": null,
   "metadata": {},
   "outputs": [],
   "source": []
  },
  {
   "cell_type": "code",
   "execution_count": null,
   "metadata": {},
   "outputs": [],
   "source": []
  },
  {
   "cell_type": "code",
   "execution_count": null,
   "metadata": {},
   "outputs": [],
   "source": []
  },
  {
   "cell_type": "code",
   "execution_count": null,
   "metadata": {},
   "outputs": [],
   "source": []
  },
  {
   "cell_type": "code",
   "execution_count": null,
   "metadata": {},
   "outputs": [],
   "source": []
  },
  {
   "cell_type": "code",
   "execution_count": null,
   "metadata": {},
   "outputs": [],
   "source": []
  },
  {
   "cell_type": "code",
   "execution_count": 1,
   "metadata": {},
   "outputs": [],
   "source": [
    "from IPython.display import HTML"
   ]
  },
  {
   "cell_type": "code",
   "execution_count": 2,
   "metadata": {},
   "outputs": [
    {
     "data": {
      "text/html": [
       "<script>\n",
       "code_show=true; \n",
       "function code_toggle() {\n",
       " if (code_show){\n",
       " $('div.input').hide();\n",
       " } else {\n",
       " $('div.input').show();\n",
       " }\n",
       " code_show = !code_show\n",
       "} \n",
       "$( document ).ready(code_toggle);\n",
       "</script>\n",
       "The raw code for this IPython notebook is by default hidden for easier reading.\n",
       "To toggle on/off the raw code, click <a href=\"javascript:code_toggle()\">here</a>."
      ],
      "text/plain": [
       "<IPython.core.display.HTML object>"
      ]
     },
     "execution_count": 2,
     "metadata": {},
     "output_type": "execute_result"
    }
   ],
   "source": [
    "HTML('''<script>\n",
    "code_show=true; \n",
    "function code_toggle() {\n",
    " if (code_show){\n",
    " $('div.input').hide();\n",
    " } else {\n",
    " $('div.input').show();\n",
    " }\n",
    " code_show = !code_show\n",
    "} \n",
    "$( document ).ready(code_toggle);\n",
    "</script>\n",
    "The raw code for this IPython notebook is by default hidden for easier reading.\n",
    "To toggle on/off the raw code, click <a href=\"javascript:code_toggle()\">here</a>.''')"
   ]
  },
  {
   "cell_type": "code",
   "execution_count": null,
   "metadata": {},
   "outputs": [],
   "source": []
  }
 ],
 "metadata": {
  "kernelspec": {
   "display_name": "Python 3",
   "language": "python",
   "name": "python3"
  },
  "language_info": {
   "codemirror_mode": {
    "name": "ipython",
    "version": 3
   },
   "file_extension": ".py",
   "mimetype": "text/x-python",
   "name": "python",
   "nbconvert_exporter": "python",
   "pygments_lexer": "ipython3",
   "version": "3.6.5"
  }
 },
 "nbformat": 4,
 "nbformat_minor": 2
}
